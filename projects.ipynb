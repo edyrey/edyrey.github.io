{
  "cells": [
    {
      "cell_type": "raw",
      "metadata": {},
      "source": [
        "---\n",
        "title: \"My Projects\"\n",
        "listing:\n",
        "  contents: posts\n",
        "  sort: \"date desc\"\n",
        "  type: default\n",
        "  categories: false\n",
        "  sort-ui: false\n",
        "  filter-ui: false\n",
        "page-layout: full\n",
        "title-block-banner: true\n",
        "---"
      ],
      "id": "1ff21c08"
    },
    {
      "cell_type": "markdown",
      "metadata": {},
      "source": [
        "## The People's Kitchen of San Luis Obispo, CA\n",
        "\n",
        "  ```{html}\n",
        "<div style=\"display: flex; align-items: center;\">\n",
        "  <div style=\"flex: 1;\">\n",
        "    <p><strong>Description:</strong> Working alongside Assistant Professor of Statistics Dr. Emily Robinson to digitize, create a data workflow, analyze, and produce dashboards to visualize data, specifically the number of meals served, for the local food kitchen.\n",
        "  </div>\n",
        "  <div style=\"flex: 1; text-align: right;\">\n",
        "    <img src=\"images/PK_LOGO.png\" alt=\"PK Logo\" style=\"max-width: 300px;\">\n",
        "  </div>\n",
        "</div>\n",
        "  ```\n",
        "\n",
        "\n",
        "\n",
        "## Speed and Footwear Experiment\n",
        "\n",
        "<div style=\"display: flex; align-items: center;\">\n",
        "  <div style=\"flex: 1;\">\n",
        "    <p style=\"margin: 0;\"><strong>Description:</strong> STAT 365 - Statistical Communication project. Designed and carried out a fully randomized experiment to test if the type of footwear affects the speed of a single runner.</p>\n",
        "    <p style=\"margin: 0;\"><strong>GitHub Link:</strong> <a href=\"https://github.com/edyrey/stat365_project\">STAT 365 Project</a></p>\n",
        "  </div>\n",
        "  <div style=\"flex: 1; text-align: right;\">\n",
        "    <img src=\"images/NBshoe.jpg\" alt=\"NB shoe\" style=\"max-width: 300px;\">\n",
        "  </div>\n",
        "</div>\n",
        "\n",
        "## Recall of Words Experiment\n",
        "\n",
        "<div style=\"display: flex; align-items: center;\">\n",
        "  <div style=\"flex: 1;\">\n",
        "    <p style=\"margin: 0;\"><strong>Description:</strong> STAT 323 - Design and Analysis of Experiments final project. Designed and carried out a repeated measures experiment to examine the effect of organizational patterns (ordered, random) and sound conditions (silence, white noise, music) on an individual’s ability to remember simple words. </p>\n",
        "    <p style=\"margin: 0;\"><strong>GitHub Link:</strong> <a href=\"https://github.com/edyrey/stat323_finalproject\">STAT 323 Final Project</a></p>\n",
        "  </div>\n",
        "  <div style=\"flex: 1; text-align: right;\">\n",
        "    <img src=\"images/words.jpg\" alt=\"Words\" style=\"max-width: 250px;\">\n",
        "  </div>\n",
        "</div>\n",
        "\n",
        "..."
      ],
      "id": "5ce5c50a"
    }
  ],
  "metadata": {
    "kernelspec": {
      "display_name": "Python 3",
      "language": "python",
      "name": "python3"
    }
  },
  "nbformat": 4,
  "nbformat_minor": 5
}